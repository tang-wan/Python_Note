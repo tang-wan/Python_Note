{
 "cells": [
  {
   "cell_type": "markdown",
   "metadata": {},
   "source": [
    "## Function"
   ]
  },
  {
   "cell_type": "markdown",
   "metadata": {},
   "source": [
    "### Function statement\n",
    "* A block of reusable code\n",
    "* If there are some functions will be used very often, we will use function\n",
    "* NOTICE!!\n",
    "    * If setting default argument, non-default argument follows default argument\n",
    "    * Using keyworld arguments help with readability"
   ]
  },
  {
   "cell_type": "code",
   "execution_count": 1,
   "metadata": {},
   "outputs": [
    {
     "name": "stdout",
     "output_type": "stream",
     "text": [
      "Let's cal\n",
      "3\n",
      "Let's cal\n",
      "Let's cal\n",
      "Let's cal\n",
      "-1\n"
     ]
    }
   ],
   "source": [
    "def opening():\n",
    "    print(\"hello World\")\n",
    "    print()\n",
    "\n",
    "def cal(b, a=1):\n",
    "# # def cal(a=2, b):\n",
    "    print(\"Let's cal\")\n",
    "    add = a + b\n",
    "    minus = a-b\n",
    "    dot = a*b\n",
    "    # return add\n",
    "    return add, minus, dot\n",
    "\n",
    "o_add, o_minus, o_dot = cal(1, 2)\n",
    "print(o_add)\n",
    "\n",
    "result = cal(1, 2)\n",
    "o_add, o_minus, o_dot = cal(a=1, b=2)\n",
    "o_add, o_minus, o_dot = cal(b=2)\n",
    "print(o_minus)"
   ]
  },
  {
   "cell_type": "markdown",
   "metadata": {},
   "source": [
    "## If-else"
   ]
  },
  {
   "cell_type": "markdown",
   "metadata": {},
   "source": [
    "### logetic operators\n",
    "* Evaluate multiple condition\n",
    "* Common logetic operators:\n",
    "    * `or` => at least one condition must be True\n",
    "    * `and` => both condition must be True\n",
    "    * `not` => Invers the condition"
   ]
  },
  {
   "cell_type": "code",
   "execution_count": 20,
   "metadata": {},
   "outputs": [
    {
     "name": "stdout",
     "output_type": "stream",
     "text": [
      "Is there a typhoon? True\n",
      "Should we go to class? True\n"
     ]
    }
   ],
   "source": [
    "rain = True\n",
    "windy = True\n",
    "# windy = False\n",
    "typhoon = rain or windy\n",
    "print(\"Is there a typhoon?\", typhoon)\n",
    "\n",
    "progress = False\n",
    "is_Class = not (typhoon and progress) # progress and typhoon both True => is_Class will be false\n",
    "print(\"Should we go to class?\", is_Class)"
   ]
  },
  {
   "cell_type": "markdown",
   "metadata": {},
   "source": [
    "### If-else statement\n",
    "* Do something if some condition is True, else do something else\n",
    "* Common comparison operator:\n",
    "    * `>` => larger\n",
    "    * `<` => smaller\n",
    "    * `==` => equal\n",
    "    * `>=` => larger or equal\n",
    "    * `<=` => smaller or equal"
   ]
  },
  {
   "cell_type": "code",
   "execution_count": 24,
   "metadata": {},
   "outputs": [
    {
     "name": "stdout",
     "output_type": "stream",
     "text": [
      "Plz come back next year.\n"
     ]
    }
   ],
   "source": [
    "score = 59\n",
    "\n",
    "if (score >= 70):\n",
    "    print(\"Master's and college students both can pass this course\")\n",
    "\n",
    "elif (60 < score and score < 70):\n",
    "    print(\"Only college student can pass this course\")\n",
    "\n",
    "elif (60 == score):\n",
    "    print(\"If you are college student, you are so lucky.\")\n",
    "\n",
    "else:\n",
    "    print(\"Plz come back next year.\")"
   ]
  },
  {
   "cell_type": "markdown",
   "metadata": {},
   "source": [
    "## Match-case"
   ]
  },
  {
   "cell_type": "markdown",
   "metadata": {},
   "source": [
    "### Match case statement\n",
    "* This statement is only available to the version newer than python 3.10\n",
    "* Execute some code if a value match a case\n",
    "* An alternative to using mant elif statements (cleaner and syntax is more readable)"
   ]
  },
  {
   "cell_type": "code",
   "execution_count": 23,
   "metadata": {},
   "outputs": [
    {
     "name": "stdout",
     "output_type": "stream",
     "text": [
      "today is  Tuseday\n"
     ]
    }
   ],
   "source": [
    "def checking_day(day):\n",
    "    match day:\n",
    "        case 1:\n",
    "            today = 'Monday'\n",
    "            print('today is ', today)\n",
    "        case 2:\n",
    "            today = 'Tuseday'\n",
    "            print('today is ', today)\n",
    "        case 3:\n",
    "            today = 'Wednesday'\n",
    "            print('today is ', today)\n",
    "        case 4:\n",
    "            today = 'Thurseday'\n",
    "            print('today is ', today)\n",
    "        case 5:\n",
    "            today = 'Froday'\n",
    "            print('today is ', today)\n",
    "        case 6:\n",
    "            today = 'Saturday'\n",
    "            print('today is ', today)\n",
    "        case 7:\n",
    "            today = 'Sunday'\n",
    "            print('today is ', today)\n",
    "        case _:\n",
    "            print(\"Don't have today\")\n",
    "\n",
    "checking_day(2)"
   ]
  }
 ],
 "metadata": {
  "kernelspec": {
   "display_name": "Python 3",
   "language": "python",
   "name": "python3"
  },
  "language_info": {
   "codemirror_mode": {
    "name": "ipython",
    "version": 3
   },
   "file_extension": ".py",
   "mimetype": "text/x-python",
   "name": "python",
   "nbconvert_exporter": "python",
   "pygments_lexer": "ipython3",
   "version": "3.11.4"
  }
 },
 "nbformat": 4,
 "nbformat_minor": 2
}
