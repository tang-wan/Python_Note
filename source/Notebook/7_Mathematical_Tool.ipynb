{
 "cells": [
  {
   "cell_type": "markdown",
   "metadata": {},
   "source": [
    "## Sympy Introduction\n",
    "* Using `sympy` we can easily solving the equation by using python.\n",
    "* If have not installed sympy yet, please install it by using \n",
    "    * `pip install sympy`.\n",
    "* We can also use `display` in `IPython.display` to let the output more clearly.\n",
    "* More tutorial detail can go to the following network\n",
    "    * https://docs.sympy.org/latest/index.html\n",
    "    * https://blog.gtwang.org/useful-tools/sympy-python-library-for-symbolic-mathematics/"
   ]
  },
  {
   "cell_type": "code",
   "execution_count": 68,
   "metadata": {},
   "outputs": [],
   "source": [
    "from sympy import symbols, Rational, evalf\n",
    "from sympy import sin, cos\n",
    "\n",
    "from IPython.display import display"
   ]
  },
  {
   "cell_type": "markdown",
   "metadata": {},
   "source": [
    "## Basis Tool"
   ]
  },
  {
   "cell_type": "markdown",
   "metadata": {},
   "source": [
    "### DataType\n",
    "* In sympy, there are three kinds of variable\n",
    "    * `float`\n",
    "    * `int`\n",
    "    * `Rational`\n",
    "        * This variable is defined as two int divide to each other\n",
    "        * `R=Rational` can be used to simplify the coding contect\n",
    "        * We can use `.evalf()` to calculate the actual float value of rational.\n",
    "        * If the variable is calculted with rational, the result will also be rational"
   ]
  },
  {
   "cell_type": "code",
   "execution_count": 69,
   "metadata": {},
   "outputs": [],
   "source": [
    "R = Rational"
   ]
  },
  {
   "cell_type": "code",
   "execution_count": 70,
   "metadata": {},
   "outputs": [
    {
     "name": "stdout",
     "output_type": "stream",
     "text": [
      "<class 'sympy.core.numbers.One'> <class 'float'>\n",
      "# ====\n",
      "<class 'sympy.core.numbers.Half'> 1/2\n"
     ]
    },
    {
     "data": {
      "text/latex": [
       "$\\displaystyle \\frac{1}{2}$"
      ],
      "text/plain": [
       "1/2"
      ]
     },
     "metadata": {},
     "output_type": "display_data"
    },
    {
     "name": "stdout",
     "output_type": "stream",
     "text": [
      "<class 'sympy.core.numbers.Float'> 0.500000000000000\n"
     ]
    },
    {
     "data": {
      "text/latex": [
       "$\\displaystyle 0.5$"
      ],
      "text/plain": [
       "0.500000000000000"
      ]
     },
     "metadata": {},
     "output_type": "display_data"
    }
   ],
   "source": [
    "print(type(R(1)), type(2.0))\n",
    "print('# ====')\n",
    "a = R(1)/2\n",
    "\n",
    "print(type(a), a)\n",
    "display(a)\n",
    "\n",
    "# =====\n",
    "b = a.evalf()\n",
    "\n",
    "print(type(b), b)\n",
    "display(b)"
   ]
  },
  {
   "cell_type": "markdown",
   "metadata": {},
   "source": [
    "### Variable\n",
    "* If we want to use sympy to do the linear algebra, all the variable should be defined as symbols\n",
    "\n",
    "* In sympy, all the variable should be defined before using.\n",
    "* The variable can be defined by using `symbols()`\n",
    "    * The attribute of each symbols can be specific by using\n",
    "        * `symbols(, integer)`: specified as integral\n",
    "        * `symbols(, float)`: specified as float\n",
    "        * `symbols(, rational)`: specified as rational\n",
    "        * `symbols(, complex=True)`: : specified as complex number\n",
    "        * `symbols(, real=True)`: : specified as real number"
   ]
  },
  {
   "cell_type": "code",
   "execution_count": 71,
   "metadata": {},
   "outputs": [
    {
     "name": "stdout",
     "output_type": "stream",
     "text": [
      "<class 'sympy.core.symbol.Symbol'> var\n"
     ]
    },
    {
     "data": {
      "text/latex": [
       "$\\displaystyle var$"
      ],
      "text/plain": [
       "var"
      ]
     },
     "metadata": {},
     "output_type": "display_data"
    }
   ],
   "source": [
    "var = symbols('var')\n",
    "print(type(var), var)\n",
    "display(var)"
   ]
  },
  {
   "cell_type": "markdown",
   "metadata": {},
   "source": [
    "* There are some commonly used symbols have predefined by `sympy.abc`.\n",
    "    * We can use `from sympy.abc import x, theta` to import them.\n",
    "* These symbols can also be defined by using `range notation`"
   ]
  },
  {
   "cell_type": "code",
   "execution_count": 72,
   "metadata": {},
   "outputs": [
    {
     "name": "stdout",
     "output_type": "stream",
     "text": [
      "<class 'sympy.core.symbol.Symbol'> x\n",
      "# =====\n",
      "<class 'sympy.core.symbol.Symbol'> b\n",
      "<class 'sympy.core.symbol.Symbol'> e\n"
     ]
    }
   ],
   "source": [
    "from sympy.abc import r, theta, phi\n",
    "from sympy.abc import x, y, z\n",
    "\n",
    "print(type(x), x)\n",
    "print('# =====')\n",
    "a, b, c = symbols('a, b, c')\n",
    "d, e, f = symbols('d:f')\n",
    "print(type(b), b)\n",
    "print(type(e), e)"
   ]
  },
  {
   "cell_type": "markdown",
   "metadata": {},
   "source": [
    "* There are also some useful symbols or algebra can be imported from sympy\n",
    "    * Trigonometric functions: `sin`, `cos`, `tan`...\n",
    "    * Euler's number: `E`\n",
    "    * Exponential exponent: `exp()`\n",
    "    * infinity: `oo`"
   ]
  },
  {
   "cell_type": "code",
   "execution_count": 73,
   "metadata": {},
   "outputs": [],
   "source": [
    "from sympy import E, exp, log, pi\n",
    "from sympy import oo"
   ]
  },
  {
   "cell_type": "markdown",
   "metadata": {},
   "source": [
    "### Linear Algebra\n",
    "* After define the symbols, we can do the linear algebra.\n",
    "* There are few common operator.\n",
    "    * `.expand()`: expand the polynomial\n",
    "        * If there are trigonometric, `.expand(trig=True)` can be used to expand the trigonometric as the product-to-sum identities\n",
    "        * If there are the special polynomial, such as spherical harmonics, `.expand(func=True)` can be used to expand the specific term of the specific polynomial.\n",
    "    * `.subs(symbols, num)`: substitute `num` into the equation of `symbols`\n",
    "    * `apart(equ, symbols)`: do the partial fraction decomposition at specific `symbols`.\n",
    "    * `together(expr, symbo)`: combine the partial fraction together."
   ]
  },
  {
   "cell_type": "code",
   "execution_count": 74,
   "metadata": {},
   "outputs": [],
   "source": [
    "from sympy import apart, together"
   ]
  },
  {
   "cell_type": "code",
   "execution_count": 75,
   "metadata": {},
   "outputs": [
    {
     "data": {
      "text/latex": [
       "$\\displaystyle \\frac{1}{\\left(x + 1\\right) \\left(x + 2\\right)}$"
      ],
      "text/plain": [
       "1/((x + 1)*(x + 2))"
      ]
     },
     "metadata": {},
     "output_type": "display_data"
    },
    {
     "data": {
      "text/latex": [
       "$\\displaystyle \\frac{1}{x^{2} + 3 x + 2}$"
      ],
      "text/plain": [
       "1/(x**2 + 3*x + 2)"
      ]
     },
     "metadata": {},
     "output_type": "display_data"
    },
    {
     "data": {
      "text/latex": [
       "$\\displaystyle \\frac{1}{6}$"
      ],
      "text/plain": [
       "1/6"
      ]
     },
     "metadata": {},
     "output_type": "display_data"
    }
   ],
   "source": [
    "a = 1/((x+1)*(x+2))\n",
    "display(a)\n",
    "display(a.expand())\n",
    "display(a.subs(x, 1))"
   ]
  },
  {
   "cell_type": "code",
   "execution_count": 76,
   "metadata": {},
   "outputs": [
    {
     "data": {
      "text/latex": [
       "$\\displaystyle - \\frac{1}{x + 2} + \\frac{1}{x + 1}$"
      ],
      "text/plain": [
       "-1/(x + 2) + 1/(x + 1)"
      ]
     },
     "metadata": {},
     "output_type": "display_data"
    },
    {
     "data": {
      "text/latex": [
       "$\\displaystyle \\frac{1}{\\left(x + 1\\right) \\left(x + 2\\right)}$"
      ],
      "text/plain": [
       "1/((x + 1)*(x + 2))"
      ]
     },
     "metadata": {},
     "output_type": "display_data"
    }
   ],
   "source": [
    "a = 1/((x+1)*(x+2))\n",
    "display(apart(a, x))\n",
    "\n",
    "re_a = apart(a, x)\n",
    "display(together(re_a, x))"
   ]
  },
  {
   "cell_type": "markdown",
   "metadata": {},
   "source": [
    "### Trigonometric\n",
    "* We can import these useful trigonometric from sympy directly.\n",
    "* We can also use `sympy.expand_trig(expn)` to expand the  trigonometric equations.\n",
    "* We can also use `sympy.trigsimp()` to simplify mathematical expressions using trigonometric identities.\n",
    "* We can also use `.series(var, point, order)` to display the tayler expansion of trigonometric"
   ]
  },
  {
   "cell_type": "code",
   "execution_count": 108,
   "metadata": {},
   "outputs": [],
   "source": [
    "from sympy import expand_trig, trigsimp\n",
    "from sympy import sin, cos, tan, sinh"
   ]
  },
  {
   "cell_type": "code",
   "execution_count": 112,
   "metadata": {},
   "outputs": [
    {
     "data": {
      "text/latex": [
       "$\\displaystyle \\sin{\\left(2 x \\right)}$"
      ],
      "text/plain": [
       "sin(2*x)"
      ]
     },
     "metadata": {},
     "output_type": "display_data"
    },
    {
     "data": {
      "text/latex": [
       "$\\displaystyle \\frac{\\sqrt{2}}{2}$"
      ],
      "text/plain": [
       "sqrt(2)/2"
      ]
     },
     "metadata": {},
     "output_type": "display_data"
    },
    {
     "data": {
      "text/latex": [
       "$\\displaystyle 2 \\sin{\\left(x \\right)} \\cos{\\left(x \\right)}$"
      ],
      "text/plain": [
       "2*sin(x)*cos(x)"
      ]
     },
     "metadata": {},
     "output_type": "display_data"
    },
    {
     "data": {
      "text/latex": [
       "$\\displaystyle \\sin{\\left(2 x \\right)}$"
      ],
      "text/plain": [
       "sin(2*x)"
      ]
     },
     "metadata": {},
     "output_type": "display_data"
    },
    {
     "name": "stdout",
     "output_type": "stream",
     "text": [
      "# =====\n"
     ]
    },
    {
     "data": {
      "text/latex": [
       "$\\displaystyle x - \\frac{x^{3}}{6} + \\frac{x^{5}}{120} - \\frac{x^{7}}{5040} + \\frac{x^{9}}{362880} + O\\left(x^{10}\\right)$"
      ],
      "text/plain": [
       "x - x**3/6 + x**5/120 - x**7/5040 + x**9/362880 + O(x**10)"
      ]
     },
     "metadata": {},
     "output_type": "display_data"
    }
   ],
   "source": [
    "a = sin(2*x)\n",
    "display(a)\n",
    "display(a.subs(x, pi/8))\n",
    "\n",
    "expan_a = expand_trig(a)\n",
    "display(expan_a)\n",
    "display(trigsimp(expan_a))\n",
    "\n",
    "print(\"# =====\")\n",
    "b = sin(x)\n",
    "display(b.series(x, 0, 10))"
   ]
  },
  {
   "cell_type": "markdown",
   "metadata": {},
   "source": [
    "### Factorials\n",
    "* Fractorial can be import by `fractorial` in sympy"
   ]
  },
  {
   "cell_type": "code",
   "execution_count": 79,
   "metadata": {},
   "outputs": [
    {
     "data": {
      "text/latex": [
       "$\\displaystyle x!$"
      ],
      "text/plain": [
       "factorial(x)"
      ]
     },
     "metadata": {},
     "output_type": "display_data"
    },
    {
     "data": {
      "text/latex": [
       "$\\displaystyle 1 - \\gamma x + x^{2} \\left(\\frac{\\gamma^{2}}{2} + \\frac{\\pi^{2}}{12}\\right) + x^{3} \\left(- \\frac{\\gamma \\pi^{2}}{12} - \\frac{\\zeta\\left(3\\right)}{3} - \\frac{\\gamma^{3}}{6}\\right) + x^{4} \\left(\\frac{\\gamma^{4}}{24} + \\frac{\\gamma^{2} \\pi^{2}}{24} + \\frac{\\gamma \\zeta\\left(3\\right)}{3} + \\frac{\\pi^{4}}{160}\\right) + O\\left(x^{5}\\right)$"
      ],
      "text/plain": [
       "1 - EulerGamma*x + x**2*(EulerGamma**2/2 + pi**2/12) + x**3*(-EulerGamma*pi**2/12 - zeta(3)/3 - EulerGamma**3/6) + x**4*(EulerGamma**4/24 + EulerGamma**2*pi**2/24 + EulerGamma*zeta(3)/3 + pi**4/160) + O(x**5)"
      ]
     },
     "metadata": {},
     "output_type": "display_data"
    }
   ],
   "source": [
    "from sympy import factorial\n",
    "\n",
    "a = factorial(x)\n",
    "display(a)\n",
    "display(a.series(x, 0, 5))\n"
   ]
  },
  {
   "cell_type": "markdown",
   "metadata": {},
   "source": [
    "### Complex number\n",
    "* we can using `symbols(, attribute)` to set the attribute of the symbols.\n",
    "    * `x = symbols('x', complex=True)`: set the `x` symbols as the complex number.\n",
    "    * `x = symbols('x', real=True)`: set the `x` symbols as the real number.\n",
    "* We can also using `expand(complex=True)` to specifies to use complex number expansion."
   ]
  },
  {
   "cell_type": "code",
   "execution_count": 80,
   "metadata": {},
   "outputs": [
    {
     "data": {
      "text/latex": [
       "$\\displaystyle i \\sin{\\left(x \\right)} + \\cos{\\left(x \\right)}$"
      ],
      "text/plain": [
       "I*sin(x) + cos(x)"
      ]
     },
     "metadata": {},
     "output_type": "display_data"
    },
    {
     "name": "stdout",
     "output_type": "stream",
     "text": [
      "# ===== #\n"
     ]
    },
    {
     "data": {
      "text/latex": [
       "$\\displaystyle x$"
      ],
      "text/plain": [
       "x"
      ]
     },
     "metadata": {},
     "output_type": "display_data"
    },
    {
     "data": {
      "text/latex": [
       "$\\displaystyle \\operatorname{re}{\\left(x\\right)} + i \\operatorname{im}{\\left(x\\right)}$"
      ],
      "text/plain": [
       "re(x) + I*im(x)"
      ]
     },
     "metadata": {},
     "output_type": "display_data"
    },
    {
     "data": {
      "text/latex": [
       "$\\displaystyle i e^{- \\operatorname{im}{\\left(x\\right)}} \\sin{\\left(\\operatorname{re}{\\left(x\\right)} \\right)} + e^{- \\operatorname{im}{\\left(x\\right)}} \\cos{\\left(\\operatorname{re}{\\left(x\\right)} \\right)}$"
      ],
      "text/plain": [
       "I*exp(-im(x))*sin(re(x)) + exp(-im(x))*cos(re(x))"
      ]
     },
     "metadata": {},
     "output_type": "display_data"
    }
   ],
   "source": [
    "from sympy import I\n",
    "x = symbols(\"x\", real=True)\n",
    "a = exp(I*x).expand(complex=True)\n",
    "display(a)\n",
    "\n",
    "print(\"# ===== #\")\n",
    "\n",
    "x = symbols(\"x\", complex=True)\n",
    "a = x.expand()\n",
    "display(a)\n",
    "\n",
    "a = x.expand(complex=True)\n",
    "display(a)\n",
    "\n",
    "a = exp(I*x).expand(complex=True)\n",
    "display(a)"
   ]
  },
  {
   "cell_type": "markdown",
   "metadata": {},
   "source": [
    "### Matrix\n",
    "* Matrix can be import as `Matrix` from sympy\n",
    "* These matrix can also follow the rules of matrix operations\n",
    "    * Product: `[Matrix1]@[Matrix2]`\n",
    "    * Transpose: `Matrix.T` or `Transpose(Matrix)`\n",
    "    * Inverse: `Matrix.inv()`\n",
    "    * Determinant: `Matrix.det()`\n",
    "* Other operator can go through the following diractory:\\\n",
    "https://docs.sympy.org/latest/tutorials/intro-tutorial/matrices.html\n"
   ]
  },
  {
   "cell_type": "code",
   "execution_count": 81,
   "metadata": {},
   "outputs": [
    {
     "data": {
      "text/latex": [
       "$\\displaystyle i e^{- \\operatorname{im}{\\left(x\\right)}} \\sin{\\left(\\operatorname{re}{\\left(x\\right)} \\right)} + e^{- \\operatorname{im}{\\left(x\\right)}} \\cos{\\left(\\operatorname{re}{\\left(x\\right)} \\right)}$"
      ],
      "text/plain": [
       "I*exp(-im(x))*sin(re(x)) + exp(-im(x))*cos(re(x))"
      ]
     },
     "metadata": {},
     "output_type": "display_data"
    },
    {
     "data": {
      "text/latex": [
       "$\\displaystyle \\left(i e^{- \\operatorname{im}{\\left(x\\right)}} \\sin{\\left(\\operatorname{re}{\\left(x\\right)} \\right)} + e^{- \\operatorname{im}{\\left(x\\right)}} \\cos{\\left(\\operatorname{re}{\\left(x\\right)} \\right)}\\right)^{2}$"
      ],
      "text/plain": [
       "(I*exp(-im(x))*sin(re(x)) + exp(-im(x))*cos(re(x)))**2"
      ]
     },
     "metadata": {},
     "output_type": "display_data"
    }
   ],
   "source": [
    "from sympy import Matrix\n",
    "\n",
    "display(a)\n",
    "display(a**2)"
   ]
  },
  {
   "cell_type": "code",
   "execution_count": 82,
   "metadata": {},
   "outputs": [
    {
     "data": {
      "text/latex": [
       "$\\displaystyle \\left[\\begin{matrix}x^{2} + 3 & 4 x + y\\\\2 x + 3 y & y^{2} + 8\\end{matrix}\\right]$"
      ],
      "text/plain": [
       "Matrix([\n",
       "[ x**2 + 3,  4*x + y],\n",
       "[2*x + 3*y, y**2 + 8]])"
      ]
     },
     "metadata": {},
     "output_type": "display_data"
    },
    {
     "data": {
      "text/latex": [
       "$\\displaystyle \\left[\\begin{matrix}x & 2\\\\1 & y\\end{matrix}\\right]$"
      ],
      "text/plain": [
       "Matrix([\n",
       "[x, 2],\n",
       "[1, y]])"
      ]
     },
     "metadata": {},
     "output_type": "display_data"
    },
    {
     "data": {
      "text/latex": [
       "$\\displaystyle \\left[\\begin{matrix}\\frac{y}{x y - 2} & - \\frac{1}{x y - 2}\\\\- \\frac{2}{x y - 2} & \\frac{x}{x y - 2}\\end{matrix}\\right]$"
      ],
      "text/plain": [
       "Matrix([\n",
       "[ y/(x*y - 2), -1/(x*y - 2)],\n",
       "[-2/(x*y - 2),  x/(x*y - 2)]])"
      ]
     },
     "metadata": {},
     "output_type": "display_data"
    },
    {
     "data": {
      "text/latex": [
       "$\\displaystyle x y - 2$"
      ],
      "text/plain": [
       "x*y - 2"
      ]
     },
     "metadata": {},
     "output_type": "display_data"
    }
   ],
   "source": [
    "a = Matrix([[x, 1],\n",
    "            [2, y]])\n",
    "\n",
    "b = Matrix([[x, 4],\n",
    "            [3, y]])\n",
    "\n",
    "display(a@b)\n",
    "display(a.T)\n",
    "display(a.inv())\n",
    "display(a.det())"
   ]
  },
  {
   "cell_type": "markdown",
   "metadata": {},
   "source": [
    "## Calculus"
   ]
  },
  {
   "cell_type": "markdown",
   "metadata": {},
   "source": [
    "### Limitaion\n",
    "* `limit(equ, symbols, val)`: We can use it to calculate the `symbols` in the equation limit to `val`."
   ]
  },
  {
   "cell_type": "code",
   "execution_count": 83,
   "metadata": {},
   "outputs": [],
   "source": [
    "from sympy import limit"
   ]
  },
  {
   "cell_type": "code",
   "execution_count": 84,
   "metadata": {},
   "outputs": [
    {
     "data": {
      "text/latex": [
       "$\\displaystyle \\infty$"
      ],
      "text/plain": [
       "oo"
      ]
     },
     "metadata": {},
     "output_type": "display_data"
    },
    {
     "data": {
      "text/latex": [
       "$\\displaystyle 0$"
      ],
      "text/plain": [
       "0"
      ]
     },
     "metadata": {},
     "output_type": "display_data"
    },
    {
     "data": {
      "text/latex": [
       "$\\displaystyle \\infty$"
      ],
      "text/plain": [
       "oo"
      ]
     },
     "metadata": {},
     "output_type": "display_data"
    }
   ],
   "source": [
    "# Simple example\n",
    "a = limit(x, x, oo)\n",
    "display(a)\n",
    "\n",
    "a = limit(1/x, x, oo)\n",
    "display(a)\n",
    "\n",
    "a = limit(x**x, x, oo)\n",
    "display(a)"
   ]
  },
  {
   "cell_type": "code",
   "execution_count": 85,
   "metadata": {},
   "outputs": [
    {
     "data": {
      "text/latex": [
       "$\\displaystyle e$"
      ],
      "text/plain": [
       "E"
      ]
     },
     "metadata": {},
     "output_type": "display_data"
    },
    {
     "data": {
      "text/latex": [
       "$\\displaystyle 1$"
      ],
      "text/plain": [
       "1"
      ]
     },
     "metadata": {},
     "output_type": "display_data"
    }
   ],
   "source": [
    "# Complicate\n",
    "b = limit((1+1/x)**x, x, oo)\n",
    "display(b)\n",
    "\n",
    "b = limit(E**x/(1-x**3), x, 0)\n",
    "display(b)"
   ]
  },
  {
   "cell_type": "markdown",
   "metadata": {},
   "source": [
    "### Tayler expansion\n",
    "* `.series(var, point, order)` can display the tayler expansion of the symbols"
   ]
  },
  {
   "cell_type": "code",
   "execution_count": 86,
   "metadata": {},
   "outputs": [
    {
     "data": {
      "text/latex": [
       "$\\displaystyle x - \\frac{x^{3}}{6} + \\frac{x^{5}}{120} - \\frac{x^{7}}{5040} + \\frac{x^{9}}{362880} + O\\left(x^{10}\\right)$"
      ],
      "text/plain": [
       "x - x**3/6 + x**5/120 - x**7/5040 + x**9/362880 + O(x**10)"
      ]
     },
     "metadata": {},
     "output_type": "display_data"
    },
    {
     "data": {
      "text/latex": [
       "$\\displaystyle 1 - \\frac{x^{2}}{2} + \\frac{x^{4}}{24} - \\frac{x^{6}}{720} + \\frac{x^{8}}{40320} + O\\left(x^{10}\\right)$"
      ],
      "text/plain": [
       "1 - x**2/2 + x**4/24 - x**6/720 + x**8/40320 + O(x**10)"
      ]
     },
     "metadata": {},
     "output_type": "display_data"
    }
   ],
   "source": [
    "a = sin(x).series(x, 0, 10)\n",
    "display(a)\n",
    "\n",
    "a = cos(x).series(x, 0, 10)\n",
    "display(a)"
   ]
  },
  {
   "cell_type": "markdown",
   "metadata": {},
   "source": [
    "### Differentiation\n",
    "* `diff(func, symbols, order)`: It can be used to calculated the differentiation.\n",
    "    * `order` can be changed for the high order differential, default is `1`\n",
    "* We can also calculated the differentiation by setting `func.diff(symbols, order)`\n",
    "* We can also using the defination of differentiation to confirm the result."
   ]
  },
  {
   "cell_type": "code",
   "execution_count": 87,
   "metadata": {},
   "outputs": [],
   "source": [
    "from sympy import diff"
   ]
  },
  {
   "cell_type": "code",
   "execution_count": 88,
   "metadata": {},
   "outputs": [
    {
     "data": {
      "text/latex": [
       "$\\displaystyle 2 x + 1$"
      ],
      "text/plain": [
       "2*x + 1"
      ]
     },
     "metadata": {},
     "output_type": "display_data"
    },
    {
     "data": {
      "text/latex": [
       "$\\displaystyle 2 \\sin{\\left(x \\right)} \\cos{\\left(x \\right)}$"
      ],
      "text/plain": [
       "2*sin(x)*cos(x)"
      ]
     },
     "metadata": {},
     "output_type": "display_data"
    },
    {
     "data": {
      "text/latex": [
       "$\\displaystyle 3 \\sin^{2}{\\left(x \\right)} \\cos{\\left(x \\right)}$"
      ],
      "text/plain": [
       "3*sin(x)**2*cos(x)"
      ]
     },
     "metadata": {},
     "output_type": "display_data"
    }
   ],
   "source": [
    "# First order\n",
    "a = diff(x**2+x+1, x)\n",
    "display(a)\n",
    "\n",
    "a = diff(sin(x)**2, x)\n",
    "display(a)\n",
    "a = (sin(x)**3).diff(x)\n",
    "display(a)"
   ]
  },
  {
   "cell_type": "code",
   "execution_count": 89,
   "metadata": {},
   "outputs": [
    {
     "data": {
      "text/latex": [
       "$\\displaystyle 2 x + 1$"
      ],
      "text/plain": [
       "2*x + 1"
      ]
     },
     "metadata": {},
     "output_type": "display_data"
    },
    {
     "data": {
      "text/latex": [
       "$\\displaystyle 2$"
      ],
      "text/plain": [
       "2"
      ]
     },
     "metadata": {},
     "output_type": "display_data"
    }
   ],
   "source": [
    "# High order\n",
    "a = diff(x**2+x+1, x)\n",
    "display(a)\n",
    "\n",
    "a = diff(x**2+x+1, x, 2)\n",
    "display(a)"
   ]
  },
  {
   "cell_type": "code",
   "execution_count": 90,
   "metadata": {},
   "outputs": [
    {
     "data": {
      "text/latex": [
       "$\\displaystyle \\frac{- \\sin^{2}{\\left(x \\right)} + \\sin^{2}{\\left(\\delta + x \\right)}}{\\delta}$"
      ],
      "text/plain": [
       "(-sin(x)**2 + sin(delta + x)**2)/delta"
      ]
     },
     "metadata": {},
     "output_type": "display_data"
    },
    {
     "data": {
      "text/latex": [
       "$\\displaystyle \\sin{\\left(2 x \\right)}$"
      ],
      "text/plain": [
       "sin(2*x)"
      ]
     },
     "metadata": {},
     "output_type": "display_data"
    },
    {
     "data": {
      "text/latex": [
       "$\\displaystyle 2 \\sin{\\left(x \\right)} \\cos{\\left(x \\right)}$"
      ],
      "text/plain": [
       "2*sin(x)*cos(x)"
      ]
     },
     "metadata": {},
     "output_type": "display_data"
    }
   ],
   "source": [
    "# Confirm the result\n",
    "from sympy.abc import delta\n",
    "origin_eq = sin(x)**2\n",
    "check_eq = (origin_eq.subs(x, x+delta) - origin_eq.subs(x, x))/(x+delta - x)\n",
    "check_re = limit(check_eq, delta, 0)\n",
    "display(check_eq)\n",
    "display(check_re)\n",
    "display(check_re.expand(trig=True))"
   ]
  },
  {
   "cell_type": "markdown",
   "metadata": {},
   "source": [
    "### Summation\n",
    "* `summation(fun, (x, a, b))`: It can sum the function of `x` from `a` to `b`\n",
    "* If the summation doesn't have the answers, it will return the original equation"
   ]
  },
  {
   "cell_type": "code",
   "execution_count": 91,
   "metadata": {},
   "outputs": [],
   "source": [
    "from sympy import summation"
   ]
  },
  {
   "cell_type": "code",
   "execution_count": 92,
   "metadata": {},
   "outputs": [
    {
     "data": {
      "text/latex": [
       "$\\displaystyle 2$"
      ],
      "text/plain": [
       "2"
      ]
     },
     "metadata": {},
     "output_type": "display_data"
    },
    {
     "data": {
      "text/latex": [
       "$\\displaystyle \\sum_{n=2}^{\\infty} \\log{\\left(n \\right)}^{- n}$"
      ],
      "text/plain": [
       "Sum(log(n)**(-n), (n, 2, oo))"
      ]
     },
     "metadata": {},
     "output_type": "display_data"
    }
   ],
   "source": [
    "# Summation successfully\n",
    "a = summation(1/2**x, (x, 0, oo))\n",
    "display(a)\n",
    "\n",
    "# Summation failed\n",
    "n = symbols('n')\n",
    "a = summation(1/log(n)**n, (n, 2, oo))\n",
    "display(a)"
   ]
  },
  {
   "cell_type": "markdown",
   "metadata": {},
   "source": [
    "### Integral\n",
    "* `integrate()` can be used for calculating definite integration and indefinite integration\n",
    "    * definite integration: `integrate(fun, symbols)`\n",
    "    * indefinite integration: `integrate(fun, (symbols, uplim, dnlim))`"
   ]
  },
  {
   "cell_type": "code",
   "execution_count": 93,
   "metadata": {},
   "outputs": [],
   "source": [
    "from sympy import integrate"
   ]
  },
  {
   "cell_type": "code",
   "execution_count": 94,
   "metadata": {},
   "outputs": [
    {
     "data": {
      "text/latex": [
       "$\\displaystyle x^{6}$"
      ],
      "text/plain": [
       "x**6"
      ]
     },
     "metadata": {},
     "output_type": "display_data"
    },
    {
     "data": {
      "text/latex": [
       "$\\displaystyle x^{2} + \\cosh{\\left(x \\right)}$"
      ],
      "text/plain": [
       "x**2 + cosh(x)"
      ]
     },
     "metadata": {},
     "output_type": "display_data"
    },
    {
     "data": {
      "text/latex": [
       "$\\displaystyle 1$"
      ],
      "text/plain": [
       "1"
      ]
     },
     "metadata": {},
     "output_type": "display_data"
    }
   ],
   "source": [
    "a = integrate(6*x**5, x)\n",
    "display(a)\n",
    "\n",
    "a = integrate(2*x+sinh(x), x)\n",
    "display(a)\n",
    "\n",
    "a = integrate(E**(-x), (x, 0, oo))\n",
    "display(a)"
   ]
  },
  {
   "cell_type": "markdown",
   "metadata": {},
   "source": [
    "## Solving Equation"
   ]
  },
  {
   "cell_type": "markdown",
   "metadata": {},
   "source": [
    "### Differential Equations\n",
    "* first, we need to define the differential function by using `Function()` which is differentiated.\n",
    "    * differential equation can be defined by `func.diff(symbols, order)` or `diff(func, symbols, order)`\n",
    "* Next, using `dsolve` to solve the differential function."
   ]
  },
  {
   "cell_type": "code",
   "execution_count": 95,
   "metadata": {},
   "outputs": [
    {
     "data": {
      "text/latex": [
       "$\\displaystyle f{\\left(x \\right)} + \\frac{d^{3}}{d x^{3}} f{\\left(x \\right)}$"
      ],
      "text/plain": [
       "f(x) + Derivative(f(x), (x, 3))"
      ]
     },
     "metadata": {},
     "output_type": "display_data"
    },
    {
     "data": {
      "text/latex": [
       "$\\displaystyle f{\\left(x \\right)} + \\frac{d^{2}}{d x^{2}} f{\\left(x \\right)}$"
      ],
      "text/plain": [
       "f(x) + Derivative(f(x), (x, 2))"
      ]
     },
     "metadata": {},
     "output_type": "display_data"
    }
   ],
   "source": [
    "from sympy import Function, dsolve\n",
    "\n",
    "f = Function('f')\n",
    "a = f(x).diff(x, 3) + f(x)\n",
    "display(a)\n",
    "a = diff(f(x), x, 2) + f(x)\n",
    "display(a)"
   ]
  },
  {
   "cell_type": "code",
   "execution_count": 96,
   "metadata": {},
   "outputs": [
    {
     "data": {
      "text/latex": [
       "$\\displaystyle f{\\left(x \\right)} = C_{1} \\sin{\\left(x \\right)} + C_{2} \\cos{\\left(x \\right)}$"
      ],
      "text/plain": [
       "Eq(f(x), C1*sin(x) + C2*cos(x))"
      ]
     },
     "metadata": {},
     "output_type": "display_data"
    }
   ],
   "source": [
    "fun = diff(f(x), x, 2) + f(x)\n",
    "res_fun = dsolve(fun, f(x))\n",
    "display(res_fun)"
   ]
  },
  {
   "cell_type": "markdown",
   "metadata": {},
   "source": [
    "### Algebraic Equation\n",
    "* We can use `solve` to find the root of the algebraic equation\n",
    "* The number of the root is as same as the order of the algebratic equation."
   ]
  },
  {
   "cell_type": "code",
   "execution_count": 97,
   "metadata": {},
   "outputs": [
    {
     "data": {
      "text/latex": [
       "$\\displaystyle x^{4} - 1$"
      ],
      "text/plain": [
       "x**4 - 1"
      ]
     },
     "metadata": {},
     "output_type": "display_data"
    },
    {
     "data": {
      "text/plain": [
       "[-1, 1, -I, I]"
      ]
     },
     "metadata": {},
     "output_type": "display_data"
    }
   ],
   "source": [
    "from sympy import solve\n",
    "\n",
    "a = x**4 - 1\n",
    "display(a)\n",
    "\n",
    "result = solve(a, x)\n",
    "display(result)"
   ]
  },
  {
   "cell_type": "markdown",
   "metadata": {},
   "source": [
    "## Special polynomials"
   ]
  },
  {
   "cell_type": "markdown",
   "metadata": {},
   "source": [
    "### Spherical Harmonics\n",
    "* Spherical Harmonics polynomials can be import as `Ynm` in the sympy\n",
    "    * The reference in the first chapter is wrong. Please go to the following diractory https://docs.sympy.org/latest/modules/functions/special.html\n",
    "* We can used `.expand(func=True)` to expand the specific term of spherical harmonics."
   ]
  },
  {
   "cell_type": "code",
   "execution_count": 98,
   "metadata": {},
   "outputs": [
    {
     "data": {
      "text/latex": [
       "$\\displaystyle Y_{0}^{0}\\left(\\theta,\\phi\\right)$"
      ],
      "text/plain": [
       "Ynm(0, 0, theta, phi)"
      ]
     },
     "metadata": {},
     "output_type": "display_data"
    },
    {
     "data": {
      "text/latex": [
       "$\\displaystyle \\frac{1}{2 \\sqrt{\\pi}}$"
      ],
      "text/plain": [
       "1/(2*sqrt(pi))"
      ]
     },
     "metadata": {},
     "output_type": "display_data"
    }
   ],
   "source": [
    "from sympy import Ynm\n",
    "\n",
    "a = Ynm(0, 0, theta, phi)\n",
    "display(a)\n",
    "a = Ynm(0, 0, theta, phi)\n",
    "display(a.expand(func=True))"
   ]
  },
  {
   "cell_type": "markdown",
   "metadata": {},
   "source": [
    "### Gamma function\n",
    "* Gamma function can be import as `gamma` in the sympy\n",
    "* Gamma function can do the taylor expansion by using `.series(var, point, order)`\n",
    "    * To be aware, gamma function is just the `factorial(x-1)=(x-1)!`"
   ]
  },
  {
   "cell_type": "code",
   "execution_count": 99,
   "metadata": {},
   "outputs": [
    {
     "data": {
      "text/latex": [
       "$\\displaystyle \\Gamma\\left(x + 1\\right)$"
      ],
      "text/plain": [
       "gamma(x + 1)"
      ]
     },
     "metadata": {},
     "output_type": "display_data"
    },
    {
     "data": {
      "text/latex": [
       "$\\displaystyle 1 - \\gamma x + x^{2} \\left(\\frac{\\gamma^{2}}{2} + \\frac{\\pi^{2}}{12}\\right) + x^{3} \\left(- \\frac{\\gamma \\pi^{2}}{12} - \\frac{\\zeta\\left(3\\right)}{3} - \\frac{\\gamma^{3}}{6}\\right) + O\\left(x^{4}\\right)$"
      ],
      "text/plain": [
       "1 - EulerGamma*x + x**2*(EulerGamma**2/2 + pi**2/12) + x**3*(-EulerGamma*pi**2/12 - zeta(3)/3 - EulerGamma**3/6) + O(x**4)"
      ]
     },
     "metadata": {},
     "output_type": "display_data"
    }
   ],
   "source": [
    "from sympy import gamma\n",
    "\n",
    "# a = gamma(x + 1).series(x, 0, 3)\n",
    "a = gamma(x+1)\n",
    "display(a)\n",
    "display(a.series(x, 0, 4))"
   ]
  },
  {
   "cell_type": "markdown",
   "metadata": {},
   "source": [
    "### Zeta function\n",
    "* Zeta function can be import as `zeta` in the sympy"
   ]
  },
  {
   "cell_type": "code",
   "execution_count": 100,
   "metadata": {},
   "outputs": [
    {
     "data": {
      "text/latex": [
       "$\\displaystyle -1 + \\zeta\\left(5\\right)$"
      ],
      "text/plain": [
       "-1 + zeta(5)"
      ]
     },
     "metadata": {},
     "output_type": "display_data"
    }
   ],
   "source": [
    "from sympy import zeta\n",
    "\n",
    "a = zeta(5, 2)\n",
    "display(a)"
   ]
  },
  {
   "cell_type": "markdown",
   "metadata": {},
   "source": [
    "### Other Polynomials\n",
    "* `chebyshevt`\n",
    "* `legendre`\n",
    "* `assoc_legendre`\n",
    "* `hermite`"
   ]
  },
  {
   "cell_type": "code",
   "execution_count": 101,
   "metadata": {},
   "outputs": [
    {
     "data": {
      "text/latex": [
       "$\\displaystyle 2 x^{2} - 1$"
      ],
      "text/plain": [
       "2*x**2 - 1"
      ]
     },
     "metadata": {},
     "output_type": "display_data"
    },
    {
     "data": {
      "text/latex": [
       "$\\displaystyle \\frac{3 x^{2}}{2} - \\frac{1}{2}$"
      ],
      "text/plain": [
       "3*x**2/2 - 1/2"
      ]
     },
     "metadata": {},
     "output_type": "display_data"
    },
    {
     "data": {
      "text/latex": [
       "$\\displaystyle - 3 x \\sqrt{1 - x^{2}}$"
      ],
      "text/plain": [
       "-3*x*sqrt(1 - x**2)"
      ]
     },
     "metadata": {},
     "output_type": "display_data"
    },
    {
     "data": {
      "text/latex": [
       "$\\displaystyle 4 x^{2} - 2$"
      ],
      "text/plain": [
       "4*x**2 - 2"
      ]
     },
     "metadata": {},
     "output_type": "display_data"
    }
   ],
   "source": [
    "from sympy import assoc_legendre, chebyshevt, legendre, hermite\n",
    "\n",
    "a = chebyshevt(2, x)\n",
    "display(a)\n",
    "\n",
    "a = legendre(2, x)\n",
    "display(a)\n",
    "\n",
    "a = assoc_legendre(2, 1, x)\n",
    "display(a)\n",
    "\n",
    "a = hermite(2, x)\n",
    "display(a)"
   ]
  }
 ],
 "metadata": {
  "kernelspec": {
   "display_name": "Python 3",
   "language": "python",
   "name": "python3"
  },
  "language_info": {
   "codemirror_mode": {
    "name": "ipython",
    "version": 3
   },
   "file_extension": ".py",
   "mimetype": "text/x-python",
   "name": "python",
   "nbconvert_exporter": "python",
   "pygments_lexer": "ipython3",
   "version": "3.11.4"
  }
 },
 "nbformat": 4,
 "nbformat_minor": 2
}
