{
 "cells": [
  {
   "cell_type": "code",
   "execution_count": 1,
   "metadata": {},
   "outputs": [],
   "source": [
    "# making reading file\n",
    "import numpy as np\n",
    "\n",
    "x = np.linspace(0, 100, 21)\n",
    "y = 2*x+1\n",
    "data = np.transpose((x, y))\n",
    "np.savetxt(\"data/tutorial.txt\", data)\n",
    "\n",
    "with open('data/tutorial.txt', 'r') as WriteF:\n",
    "    content = WriteF.read()\n",
    "with open('data/tutorial.txt', 'w') as WriteF:\n",
    "    WriteF.write(\"#\" + f\"{'x':^23}{'y':^24} \\n\" + content)"
   ]
  },
  {
   "cell_type": "markdown",
   "metadata": {},
   "source": [
    "## Open-Read/Write-Close\n",
    "* The process will be\n",
    "    1. open the file\n",
    "    2. read/write the file\n",
    "    3. close the file"
   ]
  },
  {
   "cell_type": "markdown",
   "metadata": {},
   "source": [
    "### Open the File\n",
    "* We can use `open(name[, mode[, buffering]])` to open the file\n",
    "* There are common mode to open the file:\n",
    "    * `open(name, r)`\n",
    "        * read file only\n",
    "    * `open(name, r+)`\n",
    "        * This file can be read and write. \n",
    "        * The new contents will be written in the head of the original file\n",
    "    * `open(name, w)`\n",
    "        * This file can be write.\n",
    "        * The original contents will be overwritten\n",
    "    * `open(name, w+)`\n",
    "        * This file can be read and write. \n",
    "        * The original contents will be overwritten\n",
    "    * `open(name, a)`\n",
    "        * This file can be write.\n",
    "        * The new contents will be written in the end of the original file\n",
    "    * `open(name, a+)`\n",
    "        * This file can be read and write. \n",
    "        * The new contents will be written in the end of the original file\n"
   ]
  },
  {
   "cell_type": "markdown",
   "metadata": {},
   "source": [
    "### Read the File\n",
    "* There are three kinds of method to read the file\n",
    "    * `fileObject.read([size])`\n",
    "        * Reading data one by one.\n",
    "        * The size will decide how many word should be read\n",
    "    * `fileObject.readlines()`\n",
    "        * Reading data line by line.\n",
    "        * It can only read all the file.\n",
    "    * `fileObject.readline(size)`\n",
    "        * Reading data line by line.\n",
    "        * The size will decide how many word should be read"
   ]
  },
  {
   "cell_type": "code",
   "execution_count": 2,
   "metadata": {},
   "outputs": [
    {
     "name": "stdout",
     "output_type": "stream",
     "text": [
      "['#' 'x' 'y' '0.000000000000000000e+00' '1.000000000000000000e+00'\n",
      " '5.000000000000000000e+00' '1.100000000000000000e+01'\n",
      " '1.000000000000000000e+01' '2.100000000000000000e+01'\n",
      " '1.500000000000000000e+01' '3.100000000000000000e+01'\n",
      " '2.000000000000000000e+01' '4.100000000000000000e+01'\n",
      " '2.500000000000000000e+01' '5.100000000000000000e+01'\n",
      " '3.000000000000000000e+01' '6.100000000000000000e+01'\n",
      " '3.500000000000000000e+01' '7.100000000000000000e+01'\n",
      " '4.000000000000000000e+01' '8.100000000000000000e+01'\n",
      " '4.500000000000000000e+01' '9.100000000000000000e+01'\n",
      " '5.000000000000000000e+01' '1.010000000000000000e+02'\n",
      " '5.500000000000000000e+01' '1.110000000000000000e+02'\n",
      " '6.000000000000000000e+01' '1.210000000000000000e+02'\n",
      " '6.500000000000000000e+01' '1.310000000000000000e+02'\n",
      " '7.000000000000000000e+01' '1.410000000000000000e+02'\n",
      " '7.500000000000000000e+01' '1.510000000000000000e+02'\n",
      " '8.000000000000000000e+01' '1.610000000000000000e+02'\n",
      " '8.500000000000000000e+01' '1.710000000000000000e+02'\n",
      " '9.000000000000000000e+01' '1.810000000000000000e+02'\n",
      " '9.500000000000000000e+01' '1.910000000000000000e+02'\n",
      " '1.000000000000000000e+02' '2.010000000000000000e+02']\n"
     ]
    }
   ],
   "source": [
    "# read\n",
    "file_path = \"data/tutorial.txt\"\n",
    "with open(file_path, 'r') as R_File:\n",
    "    content_r = R_File.read()\n",
    "\n",
    "sp_content_r = content_r.split()\n",
    "print(np.array(sp_content_r))"
   ]
  },
  {
   "cell_type": "code",
   "execution_count": 3,
   "metadata": {},
   "outputs": [
    {
     "name": "stdout",
     "output_type": "stream",
     "text": [
      "['#           x                      y             \\n'\n",
      " '0.000000000000000000e+00 1.000000000000000000e+00\\n'\n",
      " '5.000000000000000000e+00 1.100000000000000000e+01\\n'\n",
      " '1.000000000000000000e+01 2.100000000000000000e+01\\n'\n",
      " '1.500000000000000000e+01 3.100000000000000000e+01\\n'\n",
      " '2.000000000000000000e+01 4.100000000000000000e+01\\n'\n",
      " '2.500000000000000000e+01 5.100000000000000000e+01\\n'\n",
      " '3.000000000000000000e+01 6.100000000000000000e+01\\n'\n",
      " '3.500000000000000000e+01 7.100000000000000000e+01\\n'\n",
      " '4.000000000000000000e+01 8.100000000000000000e+01\\n'\n",
      " '4.500000000000000000e+01 9.100000000000000000e+01\\n'\n",
      " '5.000000000000000000e+01 1.010000000000000000e+02\\n'\n",
      " '5.500000000000000000e+01 1.110000000000000000e+02\\n'\n",
      " '6.000000000000000000e+01 1.210000000000000000e+02\\n'\n",
      " '6.500000000000000000e+01 1.310000000000000000e+02\\n'\n",
      " '7.000000000000000000e+01 1.410000000000000000e+02\\n'\n",
      " '7.500000000000000000e+01 1.510000000000000000e+02\\n'\n",
      " '8.000000000000000000e+01 1.610000000000000000e+02\\n'\n",
      " '8.500000000000000000e+01 1.710000000000000000e+02\\n'\n",
      " '9.000000000000000000e+01 1.810000000000000000e+02\\n'\n",
      " '9.500000000000000000e+01 1.910000000000000000e+02\\n'\n",
      " '1.000000000000000000e+02 2.010000000000000000e+02\\n']\n",
      "\n",
      "['0.000000000000000000e+00', '1.000000000000000000e+00']\n"
     ]
    }
   ],
   "source": [
    "# readlines\n",
    "file_path = \"data/tutorial.txt\"\n",
    "with open(file_path, 'r') as R_File:\n",
    "    content_ls = R_File.readlines()\n",
    "array_content_ls = np.array(content_ls)\n",
    "\n",
    "print(array_content_ls)\n",
    "print()\n",
    "print(array_content_ls[1].split())"
   ]
  },
  {
   "cell_type": "markdown",
   "metadata": {},
   "source": [
    "### Write the File\n",
    "* There is a method to write the file\n",
    "    * `fileObject.write( [ str ])`\n",
    "    * If you want the file you want to write to wrap, please remember to add `\\n` at the end of the string"
   ]
  },
  {
   "cell_type": "code",
   "execution_count": 4,
   "metadata": {},
   "outputs": [],
   "source": [
    "input_line = ['Apple', 'Banana', 'Coconut', 'Pineapple']\n",
    "# input_line = ['Apple\\n', 'Banana\\n', 'Coconut\\n', 'Pineapple\\n']\n",
    "# input_line = list(range(5))\n",
    "with open('./test.txt', 'w') as W_File:\n",
    "    for i in input_line:\n",
    "        W_File.write(i)"
   ]
  },
  {
   "cell_type": "markdown",
   "metadata": {},
   "source": [
    "## Loadtxt\n",
    "* If the contents of the file are all numbers, we can use the tool in numpy `loadtxt`"
   ]
  },
  {
   "cell_type": "code",
   "execution_count": 5,
   "metadata": {},
   "outputs": [
    {
     "name": "stdout",
     "output_type": "stream",
     "text": [
      "[[  0.   1.]\n",
      " [  5.  11.]\n",
      " [ 10.  21.]\n",
      " [ 15.  31.]\n",
      " [ 20.  41.]\n",
      " [ 25.  51.]\n",
      " [ 30.  61.]\n",
      " [ 35.  71.]\n",
      " [ 40.  81.]\n",
      " [ 45.  91.]\n",
      " [ 50. 101.]\n",
      " [ 55. 111.]\n",
      " [ 60. 121.]\n",
      " [ 65. 131.]\n",
      " [ 70. 141.]\n",
      " [ 75. 151.]\n",
      " [ 80. 161.]\n",
      " [ 85. 171.]\n",
      " [ 90. 181.]\n",
      " [ 95. 191.]\n",
      " [100. 201.]]\n",
      "[[  0.   5.  10.  15.  20.  25.  30.  35.  40.  45.  50.  55.  60.  65.\n",
      "   70.  75.  80.  85.  90.  95. 100.]\n",
      " [  1.  11.  21.  31.  41.  51.  61.  71.  81.  91. 101. 111. 121. 131.\n",
      "  141. 151. 161. 171. 181. 191. 201.]]\n"
     ]
    }
   ],
   "source": [
    "import numpy as np\n",
    "\n",
    "file_path = \"data/tutorial.txt\"\n",
    "data = np.loadtxt(f'{file_path}')\n",
    "print(data)\n",
    "\n",
    "print(np.transpose(data))\n",
    "x = np.transpose(data)[0]\n",
    "y = np.transpose(data)[1]"
   ]
  }
 ],
 "metadata": {
  "kernelspec": {
   "display_name": "Python 3",
   "language": "python",
   "name": "python3"
  },
  "language_info": {
   "codemirror_mode": {
    "name": "ipython",
    "version": 3
   },
   "file_extension": ".py",
   "mimetype": "text/x-python",
   "name": "python",
   "nbconvert_exporter": "python",
   "pygments_lexer": "ipython3",
   "version": "3.11.4"
  }
 },
 "nbformat": 4,
 "nbformat_minor": 2
}
