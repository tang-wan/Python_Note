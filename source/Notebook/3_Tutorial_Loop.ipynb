{
 "cells": [
  {
   "cell_type": "markdown",
   "metadata": {},
   "source": [
    "## Collection\n",
    "* Single variable used to store multiple values\n",
    "* The common collection :\n",
    "    * list = [ ]\n",
    "        * Ordered and changeable\n",
    "        * Duplicates OK\n",
    "    * set = { }\n",
    "        * Inorder and immutable\n",
    "        * Add/Remove Ok\n",
    "        * No duplicates\n",
    "    * tuple = ( )\n",
    "        * Ordered and unchangeable\n",
    "        * Duplicates OK\n",
    "        * Faster"
   ]
  },
  {
   "cell_type": "markdown",
   "metadata": {},
   "source": [
    "### List\n",
    "* Ordered and changeable\n",
    "* Duplicates OK\n",
    "* There are some command can be used to operate the list:\n",
    "    * `[]` or `list([])` used to define the list\n",
    "    * `list.append(obj)` => adding a element into the end of list \n",
    "    * `list.extend(seq)` => adding multiple elements into the end of list\n",
    "    * `list.insert(index, obj)` => insert the element into specific index\n",
    "    * `list.pop([index=-1])` => remove the element at specific index\n",
    "    * `list.remove[obj]` => remove the specific element\n",
    "    * `list.sort(cmp=None, key=None, reverse=False)` => sort the list by using specific method\n",
    "\n",
    "* There are some command can be used to find some element in the list:\n",
    "    * `list.count(obj)` => return how many times the specified element appears\n",
    "    * `list.index(obj[, start[, end]])` => return the index of the specified element appears\n"
   ]
  },
  {
   "cell_type": "code",
   "execution_count": 35,
   "metadata": {},
   "outputs": [
    {
     "name": "stdout",
     "output_type": "stream",
     "text": [
      "['apple', 'banana', 'coconut', 'orange']\n",
      "banana\n",
      "['apple', 'banana']\n",
      "\n",
      "[0, 1, 2, 3, 4]\n"
     ]
    }
   ],
   "source": [
    "fruits = [\"apple\", \"banana\", \"coconut\", \"orange\"]\n",
    "print(fruits)\n",
    "print(fruits[1])\n",
    "print(fruits[0:2])\n",
    "\n",
    "print()\n",
    "nums = list(range(0, 5, 1))\n",
    "print(nums)"
   ]
  },
  {
   "cell_type": "code",
   "execution_count": 36,
   "metadata": {},
   "outputs": [
    {
     "name": "stdout",
     "output_type": "stream",
     "text": [
      "[0, 1, 2, 3, 4]\n",
      "[0, 1, 2, 5, 4]\n"
     ]
    }
   ],
   "source": [
    "nums = list(range(0, 5, 1))\n",
    "print(nums)\n",
    "nums[3] = 5\n",
    "print(nums)\n",
    "# nums.append(6)\n",
    "# print(nums)\n",
    "# nums.extend([7, 8])\n",
    "# print(nums)\n",
    "# nums.insert(5, 5)\n",
    "# print(nums, '\\n', \"The length is\", len(nums))"
   ]
  },
  {
   "cell_type": "markdown",
   "metadata": {},
   "source": [
    "### Set\n",
    "* Inorder and immutable\n",
    "* Add/Remove Ok\n",
    "* No duplicates\n",
    "* There are some command can be used to operate the list:\n",
    "    * `{}` or `set([])` used to define the list\n",
    "    * `set.add(obj)` => adding a element into the set\n",
    "    * `set.pop()` => remove the element randomly\n",
    "    * `set.remove[obj]` => remove the specific element"
   ]
  },
  {
   "cell_type": "code",
   "execution_count": 37,
   "metadata": {},
   "outputs": [
    {
     "name": "stdout",
     "output_type": "stream",
     "text": [
      "{'apple', 'orange', 'banana', 'coconut'}\n",
      "\n",
      "{0, 1, 2, 3, 4}\n"
     ]
    }
   ],
   "source": [
    "fruits = {\"apple\", \"banana\", \"coconut\", \"orange\"}\n",
    "print(fruits)\n",
    "\n",
    "print()\n",
    "nums = set(range(0, 5, 1))\n",
    "print(nums)"
   ]
  },
  {
   "cell_type": "markdown",
   "metadata": {},
   "source": [
    "### Tuple\n",
    "* Ordered and unchangeable\n",
    "* Duplicates OK\n",
    "* Faster than list\n",
    "* There are some command can be used to operate the list:\n",
    "* There are some command can be used to find some element in the list:\n",
    "    * `tuple.count(obj)` => return how many times the specified element appears\n",
    "    * `tuple.index(obj[, start[, end]])` => return the index of the specified element appears"
   ]
  },
  {
   "cell_type": "code",
   "execution_count": 38,
   "metadata": {},
   "outputs": [
    {
     "name": "stdout",
     "output_type": "stream",
     "text": [
      "('apple', 'banana', 'coconut', 'orange')\n",
      "\n",
      "(0, 1, 2, 3, 4)\n"
     ]
    }
   ],
   "source": [
    "fruits = (\"apple\", \"banana\", \"coconut\", \"orange\")\n",
    "print(fruits)\n",
    "\n",
    "print()\n",
    "nums = tuple(range(0, 5, 1))\n",
    "print(nums)"
   ]
  },
  {
   "cell_type": "markdown",
   "metadata": {},
   "source": [
    "## For Loop\n",
    "* Execute a block of code a fixed number of times.\n",
    "* We can iterate over a range, string, sequence, etc.\n",
    "* NOTE!!!!\n",
    "    * Don't forget the `:`\n",
    "    * The indent is important in Python, which mean there are in a \"same block\""
   ]
  },
  {
   "cell_type": "code",
   "execution_count": 39,
   "metadata": {},
   "outputs": [
    {
     "name": "stdout",
     "output_type": "stream",
     "text": [
      "0\n",
      "1\n",
      "2\n",
      "3\n",
      "4\n"
     ]
    }
   ],
   "source": [
    "# range(start, end, step)\n",
    "for i in range(5):\n",
    "# for i in range(1, 5, 1):\n",
    "    print(i)\n",
    "\n",
    "# start = 1\n",
    "# for start in range(0, 10, 2):\n",
    "#     print(start)"
   ]
  },
  {
   "cell_type": "code",
   "execution_count": 40,
   "metadata": {},
   "outputs": [
    {
     "name": "stdout",
     "output_type": "stream",
     "text": [
      "Doing For Loop"
     ]
    }
   ],
   "source": [
    "# for_list = [1, 3, 5, 8, 6, 4]\n",
    "# for num in for_list:\n",
    "#     print(num)\n",
    "\n",
    "for_str = 'Doing For Loop'\n",
    "# for i in for_str:\n",
    "    # print(i, end='')\n",
    "for i in range(len(for_str)):\n",
    "    print(for_str[i], end='')"
   ]
  },
  {
   "cell_type": "code",
   "execution_count": 41,
   "metadata": {},
   "outputs": [
    {
     "name": "stdout",
     "output_type": "stream",
     "text": [
      "0\n",
      "1\n",
      "2\n",
      "3\n",
      "4\n",
      "5\n",
      "The final counter is 9\n"
     ]
    }
   ],
   "source": [
    "for i in range(10):\n",
    "    if i>5:\n",
    "        continue\n",
    "        # break\n",
    "    else:\n",
    "        print(i)\n",
    "print(\"The final counter is\", i)"
   ]
  },
  {
   "cell_type": "markdown",
   "metadata": {},
   "source": [
    "## While Loop\n",
    "* Execute some code while some condition remains true\n",
    "* NOTE!!!!\n",
    "    * Plz avoid the endless loop, unless that is what you want."
   ]
  },
  {
   "cell_type": "code",
   "execution_count": 42,
   "metadata": {},
   "outputs": [
    {
     "name": "stdout",
     "output_type": "stream",
     "text": [
      "0\n",
      "1\n",
      "2\n",
      "3\n",
      "4\n",
      "Out of loop\n"
     ]
    }
   ],
   "source": [
    "start_num = 0\n",
    "while start_num < 5:\n",
    "    print(start_num)\n",
    "    start_num += 1\n",
    "print('Out of loop')"
   ]
  },
  {
   "cell_type": "code",
   "execution_count": 43,
   "metadata": {},
   "outputs": [
    {
     "name": "stdout",
     "output_type": "stream",
     "text": [
      "you are 10 years old\n"
     ]
    }
   ],
   "source": [
    "age = int(input(\"Enter your age: \"))\n",
    "while age < 0:\n",
    "    print(\"Age can not be < 0\")\n",
    "    age = int(input(\"Enter your age: \"))\n",
    "print(f\"you are {age} years old\")"
   ]
  }
 ],
 "metadata": {
  "kernelspec": {
   "display_name": "Python 3",
   "language": "python",
   "name": "python3"
  },
  "language_info": {
   "codemirror_mode": {
    "name": "ipython",
    "version": 3
   },
   "file_extension": ".py",
   "mimetype": "text/x-python",
   "name": "python",
   "nbconvert_exporter": "python",
   "pygments_lexer": "ipython3",
   "version": "3.11.4"
  }
 },
 "nbformat": 4,
 "nbformat_minor": 2
}
