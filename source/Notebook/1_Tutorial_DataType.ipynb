{
 "cells": [
  {
   "cell_type": "markdown",
   "metadata": {},
   "source": [
    "## Variable\n",
    "* A container for a value. a variable behaves as if it was the value it contains\n",
    "* There is four kinds of value\n",
    "    * String\n",
    "    * Interger\n",
    "    * Float\n",
    "    * Boolean"
   ]
  },
  {
   "cell_type": "markdown",
   "metadata": {},
   "source": [
    "### Assigned Variable and Typecasting\n",
    "* The variable can be assigned to the specific value by using `=`\n",
    "* The process of converting a variable from a one data type to another\n",
    "* using `str()`, `int()`. `float()`, `bool()` to typecaste"
   ]
  },
  {
   "cell_type": "code",
   "execution_count": 3,
   "metadata": {},
   "outputs": [
    {
     "name": "stdout",
     "output_type": "stream",
     "text": [
      "tangtang 18 92.5 True\n",
      "<class 'str'> <class 'int'> <class 'float'> <class 'bool'>\n"
     ]
    }
   ],
   "source": [
    "# Assigned Variable\n",
    "# ----------------\n",
    "#str\n",
    "name = \"tangtang\"\n",
    "# ----------------\n",
    "# int\n",
    "age = 18\n",
    "# Old = float(18)\n",
    "\n",
    "# Old = float(Old)\n",
    "# Old = string(Old)\n",
    "# Old = bool(Old)\n",
    "# ----------------\n",
    "# float\n",
    "score = 92.5\n",
    "# Old = int(score)\n",
    "# Old = string(score)\n",
    "# Old = bool(score)\n",
    "# ----------------\n",
    "# boolean\n",
    "is_TA = True\n",
    "# is_TA = int(is_TA)\n",
    "# is_TA = float(is_TA)\n",
    "# is_TA = bool(is_TA)\n",
    "# ----------------\n",
    "\n",
    "print(name, age, score, is_TA)\n",
    "print(type(name), type(age), type(score), type(is_TA))\n",
    "# print(bool(\"\"))"
   ]
  },
  {
   "cell_type": "markdown",
   "metadata": {},
   "source": [
    "## String"
   ]
  },
  {
   "cell_type": "markdown",
   "metadata": {},
   "source": [
    "### String Methods \n",
    "* There are some command can be used to operate the string\n",
    "    * `+`  => used to connection two strings\n",
    "    * `string.replace('A', 'B')` => replace specific word \"A\" to \"B\" in the string\n",
    "* There are some command can be used to knowing the information of the string:\n",
    "    * `len(string)` => count the length of the string\n",
    "    * `string.isdigit()` => If there are only number in the string\n",
    "    * `string.isalpha()` => If there are only alphabet in the string\n",
    "* There are some command can be used to find some word in the string:\n",
    "    * `string.find(\"__\")` => find the index of the first specific occurrence word in the string\n",
    "    * `string.rfind(\"__\")` => find the index of the last specific occurrence word in the string\n",
    "    * `string.count(\"__\")` => return how many times the specified word appears\n",
    "    * `string[start:end:sep]` => accessing elements of a string, the \"end index\" is out of range"
   ]
  },
  {
   "cell_type": "code",
   "execution_count": 4,
   "metadata": {},
   "outputs": [
    {
     "name": "stdout",
     "output_type": "stream",
     "text": [
      "0800-200-885 0800-200-88\n",
      "0800 200 885\n",
      "00-0-8 802085 00-0-8\n",
      "============\n",
      "1\n",
      "10\n",
      "5\n",
      "============\n",
      "XXXX-XXX-885\n"
     ]
    }
   ],
   "source": [
    "phone_num_1st  = '0800'\n",
    "phone_num_mid  = '200'\n",
    "phone_num_last = '885'\n",
    "\n",
    "phone_number = phone_num_1st + '-' + phone_num_mid + '-' + phone_num_last\n",
    "print(phone_number, phone_number[:-1:])\n",
    "print(phone_number[0:4], phone_number[5:8], phone_number[9:12])\n",
    "print(phone_number[::2], phone_number[1::2], phone_number[:-1:2], )\n",
    "print('============')\n",
    "print(phone_number.find('8'))\n",
    "print(phone_number.rfind('8'))\n",
    "print(phone_number.count('0'))\n",
    "print('============')\n",
    "print(f\"XXXX-XXX-{phone_number[-3::]}\")"
   ]
  },
  {
   "cell_type": "markdown",
   "metadata": {},
   "source": [
    "### f-string or format string\n",
    "* It is used to refer to variables or literal values in the string\n",
    "* It can format strings content based on what flags are inserted\n",
    "    * `{___:.nf}` => round to n decimal places\n",
    "    * `{___:n}` => allocate that many spaces\n",
    "    * `{___:0n}` => allocate and zero pad that many spaces\n",
    "    * `{___:<}` => left justify\n",
    "    * `{___:>}` => right justify\n",
    "    * `{___:^}` => center align"
   ]
  },
  {
   "cell_type": "code",
   "execution_count": 5,
   "metadata": {},
   "outputs": [
    {
     "name": "stdout",
     "output_type": "stream",
     "text": [
      "Helo everyone, my name is tangtang. I am 18 years old. I got 92.5 points in this class\n",
      "\n",
      "Helo everyone, my name is tangtang. I am 18 years old. I got 92.5 points in this class\n",
      "\n",
      "Helo everyone, my name is tangtang. I am 18 years old. I got 92.5 points in this class\n"
     ]
    }
   ],
   "source": [
    "# Refer to variables or literal values in the string\n",
    "\n",
    "name = \"tangtang\" # assign the variable (my_name) as the specific value (tangtang)\n",
    "age = 18\n",
    "score = 92.5\n",
    "# ----------------\n",
    "print(\"Helo everyone, my name is tangtang. I am 18 years old. I got 92.5 points in this class\")\n",
    "print()\n",
    "print(\"Helo everyone, my name is {}. I am {} years old. I got {} points in this class\".format(name, age, score))\n",
    "print()\n",
    "print(f\"Helo everyone, my name is {name}. I am {age} years old. I got {score} points in this class\")"
   ]
  },
  {
   "cell_type": "code",
   "execution_count": 6,
   "metadata": {},
   "outputs": [
    {
     "name": "stdout",
     "output_type": "stream",
     "text": [
      "2024.10\n",
      "# ------\n",
      " 2024.1003\n",
      "02024.1003\n",
      "# ------\n",
      "02024.1003\n",
      "2024.10030\n",
      "# ------\n",
      "2024.10030\n",
      "# ------\n",
      "  name   ,    age   ,   score  ,   is_TA  \n",
      "tangtang ,    18    ,   92.5   ,     1    \n"
     ]
    }
   ],
   "source": [
    "# format strings content with flags\n",
    "\n",
    "num = 2024.1003\n",
    "print(f\"{num:.2f}\")\n",
    "\n",
    "print('# ------')\n",
    "print(f\"{num:10}\")\n",
    "print(f\"{num:010}\")\n",
    "\n",
    "print('# ------')\n",
    "print(f\"{num:>010}\")\n",
    "print(f\"{num:<010}\")\n",
    "\n",
    "print('# ------')\n",
    "print(f\"{num:^010}\")\n",
    "\n",
    "print('# ------')\n",
    "name, age, score, is_TA = 'tangtang', 18, 92.5, True\n",
    "print(f\"{'name':^9}, {'age':^9}, {'score':^9}, {'is_TA':^9}\")\n",
    "print(f\"{name:^9}, {age:^9}, {score:^9}, {is_TA:^9}\")"
   ]
  },
  {
   "cell_type": "markdown",
   "metadata": {},
   "source": [
    "## Int and Float"
   ]
  },
  {
   "cell_type": "markdown",
   "metadata": {},
   "source": [
    "### Arithmetic Operators and Built-in Math Related Function\n",
    "* Commond arithmetic operators:\n",
    "    * Addition: `+`\n",
    "    * subtraction: `-`\n",
    "    * Multiplication`*`\n",
    "    * Division: `/`\n",
    "    * Power: `**`, `pow()`\n",
    "    * Remainder: `%`\n",
    "    \n",
    "* Built-in math related function:\n",
    "    * Rounding: `round()`\n",
    "    * Absolute value: `abs()`\n",
    "    * Maximum / Minimum: `max()` / `min()`\n"
   ]
  },
  {
   "cell_type": "code",
   "execution_count": 7,
   "metadata": {},
   "outputs": [
    {
     "name": "stdout",
     "output_type": "stream",
     "text": [
      " 18   <class 'int'>\n",
      " 34   <class 'int'>\n",
      " 8.5  <class 'float'>\n",
      " 289  <class 'int'>\n",
      "  2   <class 'int'>\n"
     ]
    }
   ],
   "source": [
    "# Arithmetic Operators\n",
    "age = 17\n",
    "# ----------------\n",
    "age_n = age + 1\n",
    "print(f'{age_n:^5}', type(age_n))\n",
    "# ----------------\n",
    "age_n = age * 2\n",
    "print(f'{age_n:^5}', type(age_n))\n",
    "# ----------------\n",
    "age_n = age / 2\n",
    "print(f'{age_n:^5}', type(age_n))\n",
    "# ----------------\n",
    "age_n = age ** 2\n",
    "print(f'{age_n:^5}', type(age_n))\n",
    "# ----------------\n",
    "age_n = age % 3\n",
    "print(f'{age_n:^5}', type(age_n))"
   ]
  },
  {
   "cell_type": "code",
   "execution_count": 8,
   "metadata": {},
   "outputs": [
    {
     "name": "stdout",
     "output_type": "stream",
     "text": [
      "2\n"
     ]
    }
   ],
   "source": [
    "# Built-in\n",
    "num_1 = 2\n",
    "num_2 = 10\n",
    "num_3 = 3.258127\n",
    "num_4 = -5\n",
    "\n",
    "num = round(num_3, 3)\n",
    "num = pow(num_1, num_2)\n",
    "num = abs(num_4)\n",
    "num = max(num_1, num_2, num_3)\n",
    "num = min(num_1, num_2, num_3)\n",
    "\n",
    "print(num)"
   ]
  },
  {
   "cell_type": "markdown",
   "metadata": {},
   "source": [
    "### Numpy package\n",
    "* NumPy is an open source project that enables numerical computing with Python.\n",
    "* Python library that provides many tools needed for mathematical computing.\n",
    "* If we want to using this package, we have to download first.\n",
    "    * We can use pip (package manager) to help us install the package. input `pip install [package name]` in the terminal\n",
    "    * In this case, we need to `input pip install numpy`\n",
    "* After package is installed, we can import this package in python\n",
    "    * `import [package full name]`\n",
    "    * `import [package full name] as [package short name]`\n",
    "    * `from [package full name] import [specific function in this package]`\n",
    "    * `from [package full name] import [specific function in this package] as [specific function short name]`"
   ]
  },
  {
   "cell_type": "code",
   "execution_count": 9,
   "metadata": {},
   "outputs": [
    {
     "name": "stdout",
     "output_type": "stream",
     "text": [
      "2.718281828459045\n",
      "3.141592653589793\n",
      "0.8509035245341184\n",
      "3.0\n"
     ]
    }
   ],
   "source": [
    "# from numpy import e, pi\n",
    "# print(e)\n",
    "# print(pi)\n",
    "\n",
    "import numpy as np\n",
    "print(np.e)\n",
    "print(np.pi)\n",
    "print(np.sin(45))\n",
    "print(np.sqrt(9))"
   ]
  }
 ],
 "metadata": {
  "kernelspec": {
   "display_name": "Python 3",
   "language": "python",
   "name": "python3"
  },
  "language_info": {
   "codemirror_mode": {
    "name": "ipython",
    "version": 3
   },
   "file_extension": ".py",
   "mimetype": "text/x-python",
   "name": "python",
   "nbconvert_exporter": "python",
   "pygments_lexer": "ipython3",
   "version": "3.11.4"
  }
 },
 "nbformat": 4,
 "nbformat_minor": 2
}
