{
 "cells": [
  {
   "cell_type": "markdown",
   "metadata": {},
   "source": [
    "## Solving equation by Python (sympy)\n",
    "* Using `sympy` we can easily solving the equation by using python.\n",
    "* If have not installed sympy yet, please install it by using \n",
    "    * `pip install sympy`.\n",
    "* We can also use `display` in `IPython.display` to let the output more clearly.\n",
    "* More tutorial detail can go to the following network\n",
    "    * https://blog.gtwang.org/useful-tools/sympy-python-library-for-symbolic-mathematics/"
   ]
  },
  {
   "cell_type": "code",
   "execution_count": 204,
   "metadata": {},
   "outputs": [],
   "source": [
    "from sympy import symbols, Rational, evalf\n",
    "from sympy import sin, cos\n",
    "\n",
    "from IPython.display import display, Latex"
   ]
  },
  {
   "cell_type": "markdown",
   "metadata": {},
   "source": [
    "### DataType\n",
    "* In sympy, there are three kinds of variable\n",
    "    * `float`\n",
    "    * `int`\n",
    "    * `Rational`\n",
    "        * This variable is defined as two int divide to each other\n",
    "        * `R=Rational` can be used to simplify the coding contect\n",
    "        * We can use `.evalf()` to calculate the actual float value of rational.\n",
    "        * If the variable is calculted with rational, the result will also be rational"
   ]
  },
  {
   "cell_type": "code",
   "execution_count": 205,
   "metadata": {},
   "outputs": [],
   "source": [
    "R = Rational"
   ]
  },
  {
   "cell_type": "code",
   "execution_count": 206,
   "metadata": {},
   "outputs": [
    {
     "name": "stdout",
     "output_type": "stream",
     "text": [
      "<class 'sympy.core.numbers.One'> <class 'float'>\n",
      "# ====\n",
      "<class 'sympy.core.numbers.Half'> 1/2\n"
     ]
    },
    {
     "data": {
      "text/latex": [
       "$\\displaystyle \\frac{1}{2}$"
      ],
      "text/plain": [
       "1/2"
      ]
     },
     "metadata": {},
     "output_type": "display_data"
    },
    {
     "name": "stdout",
     "output_type": "stream",
     "text": [
      "<class 'sympy.core.numbers.Float'> 0.500000000000000\n"
     ]
    },
    {
     "data": {
      "text/latex": [
       "$\\displaystyle 0.5$"
      ],
      "text/plain": [
       "0.500000000000000"
      ]
     },
     "metadata": {},
     "output_type": "display_data"
    }
   ],
   "source": [
    "print(type(R(1)), type(2.0))\n",
    "print('# ====')\n",
    "a = R(1)/2\n",
    "\n",
    "print(type(a), a)\n",
    "display(a)\n",
    "\n",
    "# =====\n",
    "b = a.evalf()\n",
    "\n",
    "print(type(b), b)\n",
    "display(b)"
   ]
  },
  {
   "cell_type": "markdown",
   "metadata": {},
   "source": [
    "### Variable\n",
    "* If we want to use sympy to do the linear algebra, all the variable should be defined as symbols\n",
    "\n",
    "* In sympy, all the variable should be defined before using.\n",
    "    * The variable can be defined by using `symbols`"
   ]
  },
  {
   "cell_type": "code",
   "execution_count": 207,
   "metadata": {},
   "outputs": [
    {
     "name": "stdout",
     "output_type": "stream",
     "text": [
      "<class 'sympy.core.symbol.Symbol'> var\n"
     ]
    },
    {
     "data": {
      "text/latex": [
       "$\\displaystyle var$"
      ],
      "text/plain": [
       "var"
      ]
     },
     "metadata": {},
     "output_type": "display_data"
    }
   ],
   "source": [
    "var = symbols('var')\n",
    "print(type(var), var)\n",
    "display(var)"
   ]
  },
  {
   "cell_type": "markdown",
   "metadata": {},
   "source": [
    "* There are some commonly used symbols have predefined by `sympy.abc`.\n",
    "    * We can use `from sympy.abc import x, theta` to import them.\n",
    "* These symbols can also be defined by using `range notation`"
   ]
  },
  {
   "cell_type": "code",
   "execution_count": 208,
   "metadata": {},
   "outputs": [
    {
     "name": "stdout",
     "output_type": "stream",
     "text": [
      "<class 'sympy.core.symbol.Symbol'> x\n",
      "# =====\n",
      "<class 'sympy.core.symbol.Symbol'> b\n",
      "<class 'sympy.core.symbol.Symbol'> e\n"
     ]
    }
   ],
   "source": [
    "from sympy.abc import r, theta, phi\n",
    "from sympy.abc import x, y, z\n",
    "\n",
    "print(type(x), x)\n",
    "print('# =====')\n",
    "a, b, c = symbols('a, b, c')\n",
    "d, e, f = symbols('d:f')\n",
    "print(type(b), b)\n",
    "print(type(e), e)"
   ]
  },
  {
   "cell_type": "markdown",
   "metadata": {},
   "source": [
    "* There are also some useful symbols or algebra can be imported from sympy\n",
    "    * Trigonometric functions: `sin`, `cos`, `tan`...\n",
    "    * Euler's number: `E`\n",
    "    * infinity: `oo`"
   ]
  },
  {
   "cell_type": "markdown",
   "metadata": {},
   "source": [
    "### Linear Algebra\n",
    "* After define the symbols, we can do the linear algebra.\n",
    "* There are few common operator.\n",
    "    * `.expand()`: expand the polynomial\n",
    "    * `.subs(symbols, num)`: substitute `num` into the equation of `symbols`\n",
    "    * `apart(equ, symbols)`: do the partial fraction decomposition at specific `symbols`.\n",
    "    * `together(expr, symbo)`: combine the partial fraction together."
   ]
  },
  {
   "cell_type": "code",
   "execution_count": 209,
   "metadata": {},
   "outputs": [],
   "source": [
    "from sympy import apart, together"
   ]
  },
  {
   "cell_type": "code",
   "execution_count": 210,
   "metadata": {},
   "outputs": [
    {
     "data": {
      "text/latex": [
       "$\\displaystyle \\frac{1}{\\left(x + 1\\right) \\left(x + 2\\right)}$"
      ],
      "text/plain": [
       "1/((x + 1)*(x + 2))"
      ]
     },
     "metadata": {},
     "output_type": "display_data"
    },
    {
     "data": {
      "text/latex": [
       "$\\displaystyle \\frac{1}{x^{2} + 3 x + 2}$"
      ],
      "text/plain": [
       "1/(x**2 + 3*x + 2)"
      ]
     },
     "metadata": {},
     "output_type": "display_data"
    },
    {
     "data": {
      "text/latex": [
       "$\\displaystyle \\frac{1}{6}$"
      ],
      "text/plain": [
       "1/6"
      ]
     },
     "metadata": {},
     "output_type": "display_data"
    }
   ],
   "source": [
    "a = 1/((x+1)*(x+2))\n",
    "display(a)\n",
    "display(a.expand())\n",
    "display(a.subs(x, 1))"
   ]
  },
  {
   "cell_type": "code",
   "execution_count": 211,
   "metadata": {},
   "outputs": [
    {
     "data": {
      "text/latex": [
       "$\\displaystyle - \\frac{1}{x + 2} + \\frac{1}{x + 1}$"
      ],
      "text/plain": [
       "-1/(x + 2) + 1/(x + 1)"
      ]
     },
     "metadata": {},
     "output_type": "display_data"
    },
    {
     "data": {
      "text/latex": [
       "$\\displaystyle \\frac{1}{\\left(x + 1\\right) \\left(x + 2\\right)}$"
      ],
      "text/plain": [
       "1/((x + 1)*(x + 2))"
      ]
     },
     "metadata": {},
     "output_type": "display_data"
    }
   ],
   "source": [
    "a = 1/((x+1)*(x+2))\n",
    "display(apart(a, x))\n",
    "\n",
    "re_a = apart(a, x)\n",
    "display(together(re_a, x))"
   ]
  },
  {
   "cell_type": "markdown",
   "metadata": {},
   "source": [
    "### Limitaion\n",
    "* `limit(equ, symbols, val)`: We can use it to calculate the `symbols` in the equation limit to `val`."
   ]
  },
  {
   "cell_type": "code",
   "execution_count": 212,
   "metadata": {},
   "outputs": [],
   "source": [
    "from sympy import limit, E, sin, oo, cos"
   ]
  },
  {
   "cell_type": "code",
   "execution_count": 213,
   "metadata": {},
   "outputs": [
    {
     "data": {
      "text/latex": [
       "$\\displaystyle \\infty$"
      ],
      "text/plain": [
       "oo"
      ]
     },
     "metadata": {},
     "output_type": "display_data"
    },
    {
     "data": {
      "text/latex": [
       "$\\displaystyle 0$"
      ],
      "text/plain": [
       "0"
      ]
     },
     "metadata": {},
     "output_type": "display_data"
    },
    {
     "data": {
      "text/latex": [
       "$\\displaystyle \\infty$"
      ],
      "text/plain": [
       "oo"
      ]
     },
     "metadata": {},
     "output_type": "display_data"
    }
   ],
   "source": [
    "# Simple example\n",
    "a = limit(x, x, oo)\n",
    "display(a)\n",
    "\n",
    "a = limit(1/x, x, oo)\n",
    "display(a)\n",
    "\n",
    "a = limit(x**x, x, oo)\n",
    "display(a)"
   ]
  },
  {
   "cell_type": "code",
   "execution_count": 214,
   "metadata": {},
   "outputs": [
    {
     "data": {
      "text/latex": [
       "$\\displaystyle e$"
      ],
      "text/plain": [
       "E"
      ]
     },
     "metadata": {},
     "output_type": "display_data"
    },
    {
     "data": {
      "text/latex": [
       "$\\displaystyle 1$"
      ],
      "text/plain": [
       "1"
      ]
     },
     "metadata": {},
     "output_type": "display_data"
    }
   ],
   "source": [
    "# Complicate\n",
    "b = limit((1+1/x)**x, x, oo)\n",
    "display(b)\n",
    "\n",
    "b = limit(E**x/(1-x**3), x, 0)\n",
    "display(b)"
   ]
  },
  {
   "cell_type": "markdown",
   "metadata": {},
   "source": [
    "### Tayler expansion\n",
    "* `.series(var, point, order)` can display the tayler expansion of the symbols"
   ]
  },
  {
   "cell_type": "code",
   "execution_count": 219,
   "metadata": {},
   "outputs": [
    {
     "data": {
      "text/latex": [
       "$\\displaystyle x - \\frac{x^{3}}{6} + \\frac{x^{5}}{120} - \\frac{x^{7}}{5040} + \\frac{x^{9}}{362880} + O\\left(x^{10}\\right)$"
      ],
      "text/plain": [
       "x - x**3/6 + x**5/120 - x**7/5040 + x**9/362880 + O(x**10)"
      ]
     },
     "metadata": {},
     "output_type": "display_data"
    },
    {
     "data": {
      "text/latex": [
       "$\\displaystyle 1 - \\frac{x^{2}}{2} + \\frac{x^{4}}{24} - \\frac{x^{6}}{720} + \\frac{x^{8}}{40320} + O\\left(x^{10}\\right)$"
      ],
      "text/plain": [
       "1 - x**2/2 + x**4/24 - x**6/720 + x**8/40320 + O(x**10)"
      ]
     },
     "metadata": {},
     "output_type": "display_data"
    }
   ],
   "source": [
    "a = sin(x).series(x, 0, 10)\n",
    "display(a)\n",
    "\n",
    "a = cos(x).series(x, 0, 10)\n",
    "display(a)"
   ]
  },
  {
   "cell_type": "markdown",
   "metadata": {},
   "source": [
    "### Differentiation\n",
    "* `diff(func, symbols, order)`: It can be used to calculated the differentiation.\n",
    "    * `order` can be changed for the high order differential, default is `1`\n",
    "* We can also using the defination of differentiation to confirm the result."
   ]
  },
  {
   "cell_type": "code",
   "execution_count": null,
   "metadata": {},
   "outputs": [],
   "source": [
    "from sympy import diff"
   ]
  },
  {
   "cell_type": "code",
   "execution_count": null,
   "metadata": {},
   "outputs": [
    {
     "data": {
      "text/latex": [
       "$\\displaystyle 2 x + 1$"
      ],
      "text/plain": [
       "2*x + 1"
      ]
     },
     "metadata": {},
     "output_type": "display_data"
    },
    {
     "data": {
      "text/latex": [
       "$\\displaystyle 2 \\sin{\\left(x \\right)} \\cos{\\left(x \\right)}$"
      ],
      "text/plain": [
       "2*sin(x)*cos(x)"
      ]
     },
     "metadata": {},
     "output_type": "display_data"
    }
   ],
   "source": [
    "# First order\n",
    "a = diff(x**2+x+1, x)\n",
    "display(a)\n",
    "\n",
    "a = diff(sin(x)**2, x)\n",
    "display(a)"
   ]
  },
  {
   "cell_type": "code",
   "execution_count": null,
   "metadata": {},
   "outputs": [
    {
     "data": {
      "text/latex": [
       "$\\displaystyle 2 x + 1$"
      ],
      "text/plain": [
       "2*x + 1"
      ]
     },
     "metadata": {},
     "output_type": "display_data"
    },
    {
     "data": {
      "text/latex": [
       "$\\displaystyle 2$"
      ],
      "text/plain": [
       "2"
      ]
     },
     "metadata": {},
     "output_type": "display_data"
    }
   ],
   "source": [
    "# High order\n",
    "a = diff(x**2+x+1, x)\n",
    "display(a)\n",
    "\n",
    "a = diff(x**2+x+1, x, 2)\n",
    "display(a)"
   ]
  },
  {
   "cell_type": "code",
   "execution_count": null,
   "metadata": {},
   "outputs": [
    {
     "data": {
      "text/latex": [
       "$\\displaystyle \\frac{- \\sin^{2}{\\left(x \\right)} + \\sin^{2}{\\left(\\delta + x \\right)}}{\\delta}$"
      ],
      "text/plain": [
       "(-sin(x)**2 + sin(delta + x)**2)/delta"
      ]
     },
     "metadata": {},
     "output_type": "display_data"
    },
    {
     "data": {
      "text/latex": [
       "$\\displaystyle \\sin{\\left(2 x \\right)}$"
      ],
      "text/plain": [
       "sin(2*x)"
      ]
     },
     "metadata": {},
     "output_type": "display_data"
    }
   ],
   "source": [
    "# Confirm the result\n",
    "from sympy.abc import delta\n",
    "origin_eq = sin(x)**2\n",
    "check_eq = (origin_eq.subs(x, x+delta) - origin_eq.subs(x, x))/(x+delta - x)\n",
    "check_re = limit(check_eq, delta, 0)\n",
    "display(check_eq)\n",
    "display(check_re)"
   ]
  },
  {
   "cell_type": "markdown",
   "metadata": {},
   "source": [
    "### Summation\n",
    "* `summation(fun, (x, a, b))`: It can sum the function of `x` from `a` to `b`\n",
    "* If the summation doesn't have the answers, it will return the original equation"
   ]
  },
  {
   "cell_type": "code",
   "execution_count": null,
   "metadata": {},
   "outputs": [],
   "source": []
  }
 ],
 "metadata": {
  "kernelspec": {
   "display_name": "Python 3",
   "language": "python",
   "name": "python3"
  },
  "language_info": {
   "codemirror_mode": {
    "name": "ipython",
    "version": 3
   },
   "file_extension": ".py",
   "mimetype": "text/x-python",
   "name": "python",
   "nbconvert_exporter": "python",
   "pygments_lexer": "ipython3",
   "version": "3.12.6"
  }
 },
 "nbformat": 4,
 "nbformat_minor": 2
}
